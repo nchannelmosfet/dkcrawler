{
 "cells": [
  {
   "cell_type": "markdown",
   "metadata": {},
   "source": [
    "### Set up"
   ]
  },
  {
   "cell_type": "code",
   "execution_count": 1,
   "metadata": {
    "jupyter": {
     "source_hidden": true
    }
   },
   "outputs": [
    {
     "data": {
      "application/vnd.jupyter.widget-view+json": {
       "model_id": "cf2f776fa5924ad4a1eb6ca984fc2774",
       "version_major": 2,
       "version_minor": 0
      },
      "text/plain": [
       "Button(button_style='success', description='Start Crawl', style=ButtonStyle())"
      ]
     },
     "metadata": {},
     "output_type": "display_data"
    },
    {
     "data": {
      "application/vnd.jupyter.widget-view+json": {
       "model_id": "e728013aaab1442e815f2bf3428ce8f8",
       "version_major": 2,
       "version_minor": 0
      },
      "text/plain": [
       "Textarea(value='', layout=Layout(display='flex', height='100px', overflow_x='scroll', width='auto'), placehold…"
      ]
     },
     "metadata": {},
     "output_type": "display_data"
    }
   ],
   "source": [
    "from crawlers import VendorSubCategoryCrawler, AllSubCategoryCrawler, DataCrawler, DataCrawlers\n",
    "from ipywidgets import Layout\n",
    "import ipywidgets as widgets\n",
    "from IPython.display import display\n",
    "import os\n",
    "\n",
    "driver_path = 'geckodriver.exe'\n",
    "download_dir = os.path.join(os.getcwd(), 'DK_Data')\n",
    "\n",
    "btn_start = widgets.Button(\n",
    "    description='Start Crawl',\n",
    "    button_style='success',\n",
    ")\n",
    "\n",
    "ta_urls = widgets.Textarea(\n",
    "    placeholder='Enter URLs here, 1 per line',\n",
    "    layout=Layout(overflow_x='scroll',\n",
    "                  width='auto',\n",
    "                  height='100px',\n",
    "                  flex_direction='row',\n",
    "                  display='flex')\n",
    ")\n",
    "\n",
    "display(btn_start, ta_urls)\n",
    "\n",
    "def start_crawl(b):\n",
    "    start_urls = ta_urls.value.split('\\n')\n",
    "    data_crawler = DataCrawlers(driver_path, start_urls, download_dir, n_workers=3)\n",
    "    data_crawler.crawl_all()\n",
    "    \n",
    "btn_start.on_click(start_crawl)"
   ]
  }
 ],
 "metadata": {
  "kernelspec": {
   "display_name": "Python 3",
   "language": "python",
   "name": "python3"
  },
  "language_info": {
   "codemirror_mode": {
    "name": "ipython",
    "version": 3
   },
   "file_extension": ".py",
   "mimetype": "text/x-python",
   "name": "python",
   "nbconvert_exporter": "python",
   "pygments_lexer": "ipython3",
   "version": "3.9.0"
  }
 },
 "nbformat": 4,
 "nbformat_minor": 4
}
