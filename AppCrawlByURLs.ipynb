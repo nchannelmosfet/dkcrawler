{
 "cells": [
  {
   "cell_type": "raw",
   "metadata": {},
   "source": [
    "Crawl by product URLs, examples:\n",
    "https://www.digikey.com/en/products/filter/barrel-power-cables/464\n",
    "https://www.digikey.com/en/products/filter/accessories/87\n",
    "https://www.digikey.com/en/products/filter/wire-ducts-raceways-accessories/487\n",
    "https://www.digikey.com/en/products/filter/thermal-heat-sinks/219\n",
    "https://www.digikey.com/en/products/filter/aluminum-electrolytic-capacitors/58\n",
    "https://www.digikey.com/en/products/filter/rectangular-connectors-headers-male-pins/314"
   ]
  },
  {
   "cell_type": "code",
   "execution_count": 2,
   "metadata": {
    "tags": []
   },
   "outputs": [
    {
     "data": {
      "application/vnd.jupyter.widget-view+json": {
       "model_id": "6ac0919a432747c9a1141024ad5bdcf3",
       "version_major": 2,
       "version_minor": 0
      },
      "text/plain": [
       "HBox(children=(Button(button_style='success', description='Start Crawl', style=ButtonStyle()), Button(button_s…"
      ]
     },
     "metadata": {},
     "output_type": "display_data"
    },
    {
     "data": {
      "application/vnd.jupyter.widget-view+json": {
       "model_id": "8219b8a3860a4612bccb62fd7ed1c5bd",
       "version_major": 2,
       "version_minor": 0
      },
      "text/plain": [
       "Textarea(value='', layout=Layout(display='flex', height='100px', overflow_x='scroll', width='auto'), placehold…"
      ]
     },
     "metadata": {},
     "output_type": "display_data"
    }
   ],
   "source": [
    "from src.crawlers import DataCrawlers\n",
    "from src.utils import concat_data, get_file_list, get_latest_session_index\n",
    "from ipywidgets import Layout, HBox\n",
    "import ipywidgets as widgets\n",
    "from IPython.display import display\n",
    "import os\n",
    "\n",
    "driver_path = 'src/geckodriver.exe'\n",
    "\n",
    "btn_start = widgets.Button(\n",
    "    description='Start Crawl',\n",
    "    button_style='success',\n",
    ")\n",
    "btn_combine_data = widgets.Button(\n",
    "    description='Combine Data',\n",
    "    button_style='success',\n",
    ")\n",
    "ta_urls = widgets.Textarea(\n",
    "    placeholder='Enter URLs here, 1 per line',\n",
    "    layout=Layout(overflow_x='scroll',\n",
    "                  width='auto',\n",
    "                  height='100px',\n",
    "                  flex_direction='row',\n",
    "                  display='flex')\n",
    ")\n",
    "display(HBox([btn_start, btn_combine_data]), ta_urls)\n",
    "\n",
    "dk_data_dir = os.path.join(os.getcwd(), 'DK_Data_By_URLs')\n",
    "os.makedirs(dk_data_dir, exist_ok=True)\n",
    "\n",
    "def start_crawl(b):\n",
    "    session_index = get_latest_session_index(dk_data_dir) + 1\n",
    "    download_dir = os.path.join(dk_data_dir, f'session{session_index}')\n",
    "    os.makedirs(download_dir, exist_ok=True)\n",
    "    \n",
    "    start_urls = ta_urls.value.split('\\n')\n",
    "    data_crawlers = DataCrawlers(driver_path, start_urls, download_dir, n_workers=3, headless=False)\n",
    "    data_crawlers.crawl_all()\n",
    "\n",
    "def combine_subcat_data(b):\n",
    "    session_index = get_latest_session_index(dk_data_dir)\n",
    "    download_dir = os.path.join(dk_data_dir, f'session{session_index}')\n",
    "    \n",
    "    in_files = get_file_list(download_dir, suffix='all.xlsx')\n",
    "    out_path = os.path.join(download_dir, 'combine.xlsx')\n",
    "    df = concat_data(in_files)\n",
    "    df.to_excel(out_path)\n",
    "    print(f'Data combined at {out_path}')\n",
    "\n",
    "btn_start.on_click(start_crawl)\n",
    "btn_combine_data.on_click(combine_subcat_data)"
   ]
  },
  {
   "cell_type": "code",
   "execution_count": null,
   "metadata": {},
   "outputs": [],
   "source": []
  },
  {
   "cell_type": "code",
   "execution_count": null,
   "metadata": {},
   "outputs": [],
   "source": []
  }
 ],
 "metadata": {
  "kernelspec": {
   "display_name": "Python 3",
   "language": "python",
   "name": "python3"
  },
  "language_info": {
   "codemirror_mode": {
    "name": "ipython",
    "version": 3
   },
   "file_extension": ".py",
   "mimetype": "text/x-python",
   "name": "python",
   "nbconvert_exporter": "python",
   "pygments_lexer": "ipython3",
   "version": "3.9.5"
  }
 },
 "nbformat": 4,
 "nbformat_minor": 4
}
