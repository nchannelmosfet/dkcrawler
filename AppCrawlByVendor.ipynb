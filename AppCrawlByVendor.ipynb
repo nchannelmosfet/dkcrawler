{
 "cells": [
  {
   "cell_type": "raw",
   "metadata": {},
   "source": [
    "Crawl by Vendor, examples:\n",
    "https://www.digikey.com/en/supplier-centers/adam-equipment"
   ]
  },
  {
   "cell_type": "code",
   "execution_count": 1,
   "metadata": {},
   "outputs": [
    {
     "data": {
      "application/vnd.jupyter.widget-view+json": {
       "model_id": "1ea61e5de3eb41faa18c03e009b9bba2",
       "version_major": 2,
       "version_minor": 0
      },
      "text/plain": [
       "HBox(children=(Button(button_style='success', description='Start Crawl', style=ButtonStyle()), Button(button_s…"
      ]
     },
     "metadata": {},
     "output_type": "display_data"
    },
    {
     "data": {
      "application/vnd.jupyter.widget-view+json": {
       "model_id": "3b8615ef3312492c9e511a5e427d0532",
       "version_major": 2,
       "version_minor": 0
      },
      "text/plain": [
       "Text(value='', description='Vendor URL:', layout=Layout(width='85%'), placeholder='Enter Vendor URL here')"
      ]
     },
     "metadata": {},
     "output_type": "display_data"
    }
   ],
   "source": [
    "from src.crawlers import DataCrawlers, VendorSubCategoryCrawler\n",
    "from src.utils import concat_data, get_file_list, get_latest_session_index\n",
    "from ipywidgets import Layout, HBox\n",
    "import ipywidgets as widgets\n",
    "from IPython.display import display\n",
    "import os\n",
    "\n",
    "driver_path = 'src/geckodriver.exe'\n",
    "\n",
    "btn_start = widgets.Button(\n",
    "    description='Start Crawl',\n",
    "    button_style='success',\n",
    ")\n",
    "btn_combine_data = widgets.Button(\n",
    "    description='Combine Data',\n",
    "    button_style='success',\n",
    ")\n",
    "tb_url = widgets.Text(\n",
    "    placeholder='Enter Vendor URL here',\n",
    "    description='Vendor URL:', \n",
    "    layout=Layout(width='85%')\n",
    ")\n",
    "\n",
    "dk_data_dir = os.path.join(os.getcwd(), 'DK_Data_By_Vendor')\n",
    "os.makedirs(dk_data_dir, exist_ok=True)\n",
    "\n",
    "display(HBox([btn_start, btn_combine_data]), tb_url)\n",
    "\n",
    "def urls_by_vendor(vendor_url):\n",
    "    vendor_crawler = VendorSubCategoryCrawler(driver_path, vendor_url, \n",
    "                                              download_dir=None)\n",
    "    subcategory_urls = vendor_crawler.crawl()\n",
    "    vendor_crawler.close()\n",
    "    return subcategory_urls\n",
    "\n",
    "def start_crawl(b):\n",
    "    vendor_url = tb_url.value\n",
    "    vendor = vendor_url.split('/')[-1]\n",
    "    download_dir = os.path.join(dk_data_dir, vendor)\n",
    "    os.makedirs(download_dir, exist_ok=True)\n",
    "    \n",
    "    subcategory_urls = urls_by_vendor(vendor_url)\n",
    "    data_crawlers = DataCrawlers(driver_path, subcategory_urls, download_dir, \n",
    "                                 n_workers=3, headless=True)\n",
    "    data_crawlers.crawl_all()\n",
    "\n",
    "def combine_subcat_data(b):\n",
    "    vendor_url = tb_url.value\n",
    "    vendor = vendor_url.split('/')[-1]\n",
    "    download_dir = os.path.join(dk_data_dir, vendor)\n",
    "    \n",
    "    in_files = get_file_list(download_dir, suffix='all.xlsx')\n",
    "    out_path = os.path.join(download_dir, 'combine.xlsx')\n",
    "    df = concat_data(in_files)\n",
    "    df.to_excel(out_path)\n",
    "    print(f'Data combined at {out_path}')\n",
    "\n",
    "btn_start.on_click(start_crawl)\n",
    "btn_combine_data.on_click(combine_subcat_data)"
   ]
  },
  {
   "cell_type": "code",
   "execution_count": null,
   "metadata": {},
   "outputs": [],
   "source": []
  },
  {
   "cell_type": "code",
   "execution_count": null,
   "metadata": {},
   "outputs": [],
   "source": []
  }
 ],
 "metadata": {
  "kernelspec": {
   "display_name": "Python 3",
   "language": "python",
   "name": "python3"
  },
  "language_info": {
   "codemirror_mode": {
    "name": "ipython",
    "version": 3
   },
   "file_extension": ".py",
   "mimetype": "text/x-python",
   "name": "python",
   "nbconvert_exporter": "python",
   "pygments_lexer": "ipython3",
   "version": "3.8.6"
  }
 },
 "nbformat": 4,
 "nbformat_minor": 4
}
